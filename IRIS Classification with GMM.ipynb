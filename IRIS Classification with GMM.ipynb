{
 "cells": [
  {
   "cell_type": "code",
   "execution_count": 67,
   "metadata": {},
   "outputs": [
    {
     "name": "stdout",
     "output_type": "stream",
     "text": [
      "Populating the interactive namespace from numpy and matplotlib\n"
     ]
    },
    {
     "name": "stderr",
     "output_type": "stream",
     "text": [
      "/usr/local/lib/python3.6/site-packages/IPython/core/magics/pylab.py:160: UserWarning: pylab import has clobbered these variables: ['colors']\n",
      "`%matplotlib` prevents importing * from pylab and numpy\n",
      "  \"\\n`%matplotlib` prevents importing * from pylab and numpy\"\n"
     ]
    }
   ],
   "source": [
    "%pylab inline\n",
    "import numpy as np\n",
    "import pandas as pd\n",
    "import seaborn as sbn\n",
    "\n",
    "from sklearn.datasets import load_iris\n",
    "from sklearn.mixture import GaussianMixture\n",
    "from sklearn.model_selection import StratifiedKFold"
   ]
  },
  {
   "cell_type": "markdown",
   "metadata": {},
   "source": [
    "## Data"
   ]
  },
  {
   "cell_type": "code",
   "execution_count": 80,
   "metadata": {
    "collapsed": true
   },
   "outputs": [],
   "source": [
    "iris = load_iris()\n",
    "skf = StratifiedKFold(n_splits=5, shuffle=False, random_state=0)\n",
    "train_idx, test_idx = next(iter(skf.split(iris.data, iris.target)))\n",
    "\n",
    "train_x = iris.data[train_idx]\n",
    "train_y = iris.target[train_idx]\n",
    "test_x = iris.data[test_idx]\n",
    "test_y = iris.target[test_idx]\n",
    "\n",
    "n_classes = len(np.unique(iris.target))"
   ]
  },
  {
   "cell_type": "code",
   "execution_count": 88,
   "metadata": {},
   "outputs": [
    {
     "data": {
      "image/png": "[encoded data removed]",
      "text/plain": [
       "<matplotlib.figure.Figure at 0x7f26a7416438>"
      ]
     },
     "metadata": {},
     "output_type": "display_data"
    }
   ],
   "source": [
    "labels = ['setosa', 'versicolor', 'virginica']\n",
    "for i, label in enumerate(labels):\n",
    "    sub_data = iris.data[iris.target == i]\n",
    "    sbn.distplot(sub_data[:, 0], label=label)\n",
    "    plt.legend()"
   ]
  },
  {
   "cell_type": "markdown",
   "metadata": {},
   "source": [
    "## Training GMM"
   ]
  },
  {
   "cell_type": "code",
   "execution_count": 93,
   "metadata": {},
   "outputs": [
    {
     "data": {
      "text/plain": [
       "GaussianMixture(covariance_type='tied', init_params='kmeans', max_iter=20,\n",
       "        means_init=array([[ 5.0425,  3.445 ,  1.4675,  0.25  ],\n",
       "       [ 5.895 ,  2.745 ,  4.2325,  1.3125],\n",
       "       [ 6.5925,  2.9825,  5.4975,  2.0225]]),\n",
       "        n_components=3, n_init=1, precisions_init=None, random_state=0,\n",
       "        reg_covar=1e-06, tol=0.001, verbose=0, verbose_interval=10,\n",
       "        warm_start=False, weights_init=None)"
      ]
     },
     "execution_count": 93,
     "metadata": {},
     "output_type": "execute_result"
    }
   ],
   "source": [
    "    gmm = GaussianMixture(n_classes, covariance_type='tied', max_iter=20, random_state=0)\n",
    "gmm.means_init = [train_x[train_y == i].mean(axis=0) for i in range(n_classes)]\n",
    "gmm.fit(train_x)"
   ]
  },
  {
   "cell_type": "markdown",
   "metadata": {},
   "source": [
    "## Evaluation"
   ]
  },
  {
   "cell_type": "code",
   "execution_count": 94,
   "metadata": {},
   "outputs": [
    {
     "name": "stdout",
     "output_type": "stream",
     "text": [
      "[Covariance]\n",
      "[[ 0.22865317  0.07736423  0.1490959   0.03308773]\n",
      " [ 0.07736423  0.11258242  0.04137369  0.02472392]\n",
      " [ 0.1490959   0.04137369  0.18415626  0.03961295]\n",
      " [ 0.03308773  0.02472392  0.03961295  0.03901318]]\n",
      "\n",
      "train_accuracy: 0.96\n",
      "test_accuracy : 1.0\n"
     ]
    }
   ],
   "source": [
    "train_accuracy = np.mean(gmm.predict(train_x) == train_y)\n",
    "test_accuracy = np.mean(gmm.predict(test_x) == test_y)\n",
    "\n",
    "print('[Covariance]')\n",
    "print(gmm.covariances_)\n",
    "print()\n",
    "\n",
    "print('train_accuracy:', round(train_accuracy, 2))\n",
    "print('test_accuracy :', round(test_accuracy, 2))"
   ]
  }
 ],
 "metadata": {
  "kernelspec": {
   "display_name": "Python 3",
   "language": "python",
   "name": "python3"
  },
  "language_info": {
   "codemirror_mode": {
    "name": "ipython",
    "version": 3
   },
   "file_extension": ".py",
   "mimetype": "text/x-python",
   "name": "python",
   "nbconvert_exporter": "python",
   "pygments_lexer": "ipython3",
   "version": "3.6.1"
  }
 },
 "nbformat": 4,
 "nbformat_minor": 2
}
